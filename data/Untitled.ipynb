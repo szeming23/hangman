{
 "cells": [
  {
   "cell_type": "markdown",
   "id": "f3113665",
   "metadata": {},
   "source": [
    "## load nltk words data"
   ]
  },
  {
   "cell_type": "code",
   "execution_count": 2,
   "id": "1ce7c5ec",
   "metadata": {},
   "outputs": [
    {
     "name": "stdout",
     "output_type": "stream",
     "text": [
      "236736\n"
     ]
    }
   ],
   "source": [
    "import json\n",
    "import random\n",
    "f = open(\"data/corpus.json\")\n",
    "\n",
    "data = json.load(f)\n",
    "f.close()\n",
    "print(len(data))"
   ]
  },
  {
   "cell_type": "code",
   "execution_count": 3,
   "id": "c0aa394f",
   "metadata": {},
   "outputs": [
    {
     "data": {
      "text/plain": [
       "'[1, 2, 3, 4, 5, 6, 7]'"
      ]
     },
     "execution_count": 3,
     "metadata": {},
     "output_type": "execute_result"
    }
   ],
   "source": [
    "test = [1,2,3,4,5,6,7]\n",
    "\n",
    "str(test)"
   ]
  },
  {
   "cell_type": "markdown",
   "id": "17915c5a",
   "metadata": {},
   "source": [
    "## separate by 6, 8, 10, 12 letter words for different difficulty"
   ]
  },
  {
   "cell_type": "code",
   "execution_count": 23,
   "id": "2c8313e4",
   "metadata": {},
   "outputs": [
    {
     "name": "stdout",
     "output_type": "stream",
     "text": [
      "41783\n",
      "AARONIC\n"
     ]
    }
   ],
   "source": [
    "word6 = []\n",
    "for w in data:\n",
    "    if 6 <= len(w) <= 7: # 1 point\n",
    "        word6.append(w.upper())\n",
    "        \n",
    "print(len(word6))\n",
    "print(word6[0])\n",
    "\n",
    "with open('word6.json', 'w') as f:\n",
    "    json.dump(word6, f)"
   ]
  },
  {
   "cell_type": "code",
   "execution_count": 24,
   "id": "73fa488d",
   "metadata": {},
   "outputs": [
    {
     "name": "stdout",
     "output_type": "stream",
     "text": [
      "93362\n",
      "AARDVARK\n"
     ]
    }
   ],
   "source": [
    "word8 = []\n",
    "for w in data:\n",
    "    if 8<= len(w) <= 10: # 2 point\n",
    "        word8.append(w.upper())\n",
    "        \n",
    "print(len(word8))\n",
    "print(word8[0])\n",
    "\n",
    "with open('word8.json', 'w') as f:\n",
    "    json.dump(word8, f)"
   ]
  },
  {
   "cell_type": "code",
   "execution_count": 25,
   "id": "af1b087a",
   "metadata": {},
   "outputs": [
    {
     "name": "stdout",
     "output_type": "stream",
     "text": [
      "71188\n",
      "ABACINATION\n"
     ]
    }
   ],
   "source": [
    "word11 = []\n",
    "for w in data:\n",
    "    if 11 <= len(w) <= 14: # 5 point\n",
    "        word11.append(w.upper())\n",
    "        \n",
    "print(len(word11))\n",
    "print(word11[0])\n",
    "\n",
    "with open('word11.json', 'w') as f:\n",
    "    json.dump(word11, f)"
   ]
  },
  {
   "cell_type": "code",
   "execution_count": 26,
   "id": "55c27114",
   "metadata": {},
   "outputs": [
    {
     "name": "stdout",
     "output_type": "stream",
     "text": [
      "12728\n",
      "ABDOMINOANTERIOR\n"
     ]
    }
   ],
   "source": [
    "word15 = []\n",
    "for w in data:\n",
    "    if len(w) >= 15:\n",
    "        word15.append(w.upper())\n",
    "        \n",
    "print(len(word15))\n",
    "print(word15[0])\n",
    "\n",
    "with open('word15.json', 'w') as f:\n",
    "    json.dump(word15, f)"
   ]
  },
  {
   "cell_type": "code",
   "execution_count": 27,
   "id": "7d300423",
   "metadata": {},
   "outputs": [
    {
     "data": {
      "text/plain": [
       "['ABDOMINOANTERIOR',\n",
       " 'ABDOMINOCARDIAC',\n",
       " 'ABDOMINOCENTESIS',\n",
       " 'ABDOMINOGENITAL',\n",
       " 'ABDOMINOHYSTERECTOMY',\n",
       " 'ABDOMINOHYSTEROTOMY',\n",
       " 'ABDOMINOPOSTERIOR',\n",
       " 'ABDOMINOTHORACIC',\n",
       " 'ABDOMINOVAGINAL',\n",
       " 'ABDOMINOVESICAL']"
      ]
     },
     "execution_count": 27,
     "metadata": {},
     "output_type": "execute_result"
    }
   ],
   "source": [
    "word15[:10]"
   ]
  },
  {
   "cell_type": "markdown",
   "id": "adc00251",
   "metadata": {},
   "source": [
    "## select a few of each (150)"
   ]
  },
  {
   "cell_type": "code",
   "execution_count": 33,
   "id": "c76a6dd0",
   "metadata": {},
   "outputs": [],
   "source": [
    "## select\n",
    "w6 = random.choices(word6, k=150)\n",
    "w8 = random.choices(word8, k=150)\n",
    "w11 = random.choices(word10, k=150)\n",
    "w15 = random.choices(word12, k=150)"
   ]
  },
  {
   "cell_type": "code",
   "execution_count": 34,
   "id": "20255f27",
   "metadata": {},
   "outputs": [
    {
     "name": "stdout",
     "output_type": "stream",
     "text": [
      "['TELLER', 'GRAEAE', 'BLIGHTY', 'LAURUS', 'COOKER', 'WITHERS', 'UNQUOTE', 'RETRACT', 'OUTFIT', 'COUNITE', 'PIPILO', 'TARSALE', 'STAGESE', 'BROGGER', 'EPITHEM', 'JOURNEY', 'CORRIE', 'BOVISTA', 'VIOLER', 'DISHRAG', 'URSULA', 'UPMOST', 'TRADAL', 'BRIQUE', 'BUTMENT', 'SNAKISH', 'TORVITY', 'GRAZIER', 'RELOSE', 'LEEWARD', 'YAKIMA', 'ARDUOUS', 'BEGUARD', 'TOWARDS', 'CANDLER', 'THRAEP', 'UNARTED', 'BAVAROY', 'LIGULE', 'LEANING', 'TALKING', 'AFLIGHT', 'ZYMOTIC', 'THROCK', 'ARAPAHO', 'JAGRATA', 'ACTINON', 'REMINT', 'TALCKY', 'SWAGGIE', 'ALAITE', 'MISTER', 'WINRACE', 'CABIRIA', 'SEAMED', 'LANGSAT', 'BESPAWL', 'IMPAGES', 'EYESPOT', 'SPOLIUM', 'RATITE', 'CALIVER', 'TIMBAL', 'COASTAL', 'RUSTLER', 'BILLON', 'TARPEIA', 'SPRINGE', 'COSMISM', 'FLORES', 'SHADED', 'ROMAIKA', 'MUZZILY', 'AMUCHCO', 'SIAMANG', 'YELLOW', 'OUABAIN', 'LEAFCUP', 'WHORISH', 'SAVITRI', 'EXILIC', 'BAHUMA', 'ASARONE', 'INQUIET', 'UNEAGER', 'MAGNET', 'BATTAK', 'DIBBLER', 'BUSTER', 'FAIRILY', 'MOUSONI', 'INBUILT', 'NASHUA', 'ROGUISH', 'SCYTHIC', 'YARDING', 'PRECOPY', 'PREVETO', 'SOTHIC', 'UPLOCK', 'SEQUAN', 'DITHERY', 'VERGLAS', 'BULLING', 'GUNLESS', 'CHARON', 'WAHEHE', 'MIRRORY', 'NOVICE', 'TEMPTER', 'GLUCASE', 'ANURIA', 'TOYWORT', 'BRUCKLE', 'TITTUP', 'SAPWORT', 'THONDER', 'STUBBLY', 'ORGANER', 'WINGMAN', 'RIFELY', 'MEANING', 'RHIZINA', 'LOTRITE', 'UPPOISE', 'ASPISH', 'MISCOOK', 'BEPRIDE', 'SNORTLE', 'UNWILL', 'WIGGISH', 'HACKING', 'SCHMELZ', 'GELOSIN', 'GUANINE', 'KINGCUP', 'SIGNIOR', 'BALUCHI', 'ELANET', 'COMOUS', 'YOKING', 'UNLADEN', 'FELLOW', 'BARUNDI', 'FATTILY', 'RAMMEL', 'RAMPAGE', 'STURTAN', 'FILLER', 'BOOTERY']\n"
     ]
    }
   ],
   "source": [
    "print(w6)"
   ]
  },
  {
   "cell_type": "code",
   "execution_count": 35,
   "id": "f62dbdbb",
   "metadata": {},
   "outputs": [
    {
     "name": "stdout",
     "output_type": "stream",
     "text": [
      "['EXSERTED', 'ASSIGNEE', 'PIPEWORK', 'OXYRHINE', 'CELLIFUGAL', 'CONSUMPTED', 'VERBENATE', 'AUTOGENOUS', 'AUSTRALIC', 'HEADLONGS', 'TELEVIEW', 'SONDERBUND', 'ANTIFREEZE', 'ARTLESSLY', 'FOREDOOR', 'PREGUIDE', 'GRUDGERY', 'DEMONOLOGY', 'TELETHON', 'HABITATE', 'SHALLOWISH', 'MORBIDLY', 'LUSHNESS', 'FISSIPEDA', 'KNACKERY', 'DISPERMY', 'BETORCINOL', 'ZEALOTIC', 'SUMMERBIRD', 'RIGIDITY', 'POSTULANT', 'CRATEFUL', 'AGITATOR', 'SQUADRISM', 'VIRGINITY', 'PARABOLA', 'OVERBANDY', 'INFIRMARER', 'GLOBULYSIS', 'LARCENOUS', 'SPOKEWISE', 'REGISTRAL', 'REVIVATORY', 'SHANKPIECE', 'MOUTHISHLY', 'FOREWORD', 'CHIASMIC', 'WOODWARDIA', 'LITTRESS', 'RAMBOOZE', 'AMBIOPIA', 'EXTRABOLD', 'SIDONIAN', 'BIBENZYL', 'EQUIVOCATE', 'SLIMINESS', 'SUPERUNFIT', 'ASTOMOUS', 'HALIBIOS', 'ENTOPROCTA', 'PREFAVOR', 'NIPPITATE', 'IMPORTABLY', 'FORETYPE', 'OPISTHION', 'POTHOOKERY', 'UNSANGUINE', 'NONAGENCY', 'KIRKYARD', 'ENDAORTIC', 'FEVERBERRY', 'PHONIKON', 'PHTHALAZIN', 'PLECOTINAE', 'CONFORMIST', 'SPATIALITY', 'BUNCHILY', 'OPTICIST', 'SNUGGERY', 'TRANSMIT', 'LOPHODONT', 'UNCHAPLAIN', 'STRUTHIOUS', 'ITEACEAE', 'RASHNESS', 'CHONOLITH', 'PUFFBALL', 'SCHWALBEA', 'ROMAGNOL', 'PRECIPICE', 'SIESTALAND', 'PENOLOGIC', 'DESMOSIS', 'GURMUKHI', 'ANTEDATE', 'STEERINGLY', 'MIGONITIS', 'MESADENIA', 'ECSTATIC', 'CARBAMIDE', 'PHYTOGRAPH', 'UNREFILLED', 'CAFTANED', 'RESPLICE', 'NOTIONIST', 'LICHENLIKE', 'BLUEBOOK', 'LIPOTYPE', 'PARGEBOARD', 'TAINTWORM', 'SOLIPSISM', 'AUTOMOLITE', 'KRAURITE', 'NOSOLOGIST', 'CORDIALITY', 'AEROPLANE', 'GNASHINGLY', 'PIPINGLY', 'COTRIPPER', 'RINSABLE', 'AGARICIC', 'ULNORADIAL', 'EXOTHECATE', 'ASSAPANIC', 'MISAUNTER', 'PIMENTON', 'QUINTADENE', 'SPONDIAS', 'CALVINIAN', 'SNORTINGLY', 'PREDECEASE', 'UNVARYING', 'CHANDLER', 'ALUCONIDAE', 'PLATONIZE', 'VENETIANED', 'CHAMAELEO', 'OTACOUSTIC', 'PERIOECID', 'REDSTART', 'CUCKOLDY', 'GLYCEROSE', 'TRICUSSATE', 'INKINESS', 'UNNOTICING', 'APOSTEMATE', 'AMAREVOLE', 'ELIASITE', 'EXPUNCTION', 'AGACELLA']\n"
     ]
    }
   ],
   "source": [
    "print(w8)"
   ]
  },
  {
   "cell_type": "code",
   "execution_count": 37,
   "id": "c4c1457f",
   "metadata": {},
   "outputs": [
    {
     "name": "stdout",
     "output_type": "stream",
     "text": [
      "['ECTROPOMETER', 'SETIPAROUS', 'SUBARBORACEOUS', 'PEARLSTONE', 'ZOROASTRISM', 'HALIBIOTIC', 'ARTILLERYMAN', 'MELOTRAGIC', 'SERALBUMIN', 'ASCLEPIADEOUS', 'ORIGINABLE', 'BLASTODISK', 'COINTEREST', 'REWARDABLENESS', 'POSTRETINAL', 'DRAGONTAIL', 'WRITHENECK', 'THERAPEUTICAL', 'UNSQUEEZED', 'ACROPOLITAN', 'PAPILLULATE', 'HOPKINSIANISM', 'STYLOGRAPHY', 'PROCATARXIS', 'PROVERBIALIZE', 'INTRANUCLEAR', 'SEMIFOSSIL', 'SUPERSANGUINE', 'OCTODECIMO', 'MEMORIALLY', 'PSEUDAPOSPORY', 'REFRACTORILY', 'PROVOKINGLY', 'MICROBELESS', 'REFININGLY', 'THURIFICATION', 'OESTRADIOL', 'INADAPTABILITY', 'CINCHONOLOGY', 'INTERREIGN', 'INFERNALIZE', 'AREFACTION', 'ALLOTHEISM', 'ANGIOMATOSIS', 'SUBARTICLE', 'IMPASSIVELY', 'ASTARBOARD', 'SEPTEMVIOUS', 'UNBENDINGLY', 'REFRANGIBILITY', 'CRASSAMENTUM', 'CATEGORIZATION', 'REFRESHFULLY', 'PSEUDOPRINCELY', 'ANTIGROWTH', 'ARTINSKIAN', 'UNEXPLOITATION', 'MONKFLOWER', 'UNDELIBERATELY', 'XEROPHAGIA', 'OUACHITITE', 'COTEMPORANEOUS', 'STRENGTHLESS', 'PULSOMETER', 'RUFOTESTACEOUS', 'SPODOGENIC', 'REPUTATIONLESS', 'SEARCHABLENESS', 'NECROGENIC', 'MACRODACTYLY', 'UNASTERISK', 'CATECHETICALLY', 'MISERABILISTIC', 'PYROHELIOMETER', 'UNREFITTED', 'TRIDECILATERAL', 'RESUMPTIVELY', 'LIMNOLOGICAL', 'TAPEMAKING', 'HISTOTROPIC', 'BRITANNICALLY', 'INTROVERSIVE', 'SESQUITERPENE', 'DERMATOPHAGUS', 'THREPSOLOGY', 'SCOOPINGLY', 'UNINERVATE', 'SCOREKEEPER', 'XENOPTERAN', 'MASCULATION', 'PORTULACARIA', 'JIMBERJAWED', 'SPHEROIDITY', 'SEMICARBAZIDE', 'NONGREMIAL', 'LICHENOGRAPHER', 'BUCCOLABIAL', 'ANTIGIGMANIC', 'CHILDCROWING', 'OSTEOCLAST', 'SWEETHEARTING', 'STERNOFACIALIS', 'RECAPITULATOR', 'TEXTUARIST', 'BESTOWABLE', 'SEMEOSTOMA', 'AMOEBOGENIAE', 'PITTOSPORACEAE', 'PLAGIOPATAGIUM', 'HYPERMETROPY', 'CUMBERSOME', 'FIERCEHEARTED', 'LISSAMPHIBIAN', 'PSEUDORUNIC', 'MITOCHONDRIA', 'PROVOCATIVE', 'CHROMONEMA', 'OMENTOPEXY', 'SCROBICULUS', 'RETROXIPHOID', 'INAPPERTINENT', 'UNHURTFULLY', 'RESELECTION', 'MYZOSTOMOUS', 'UNGENUINENESS', 'NAPHTHALATE', 'OCCIDENTAL', 'UNCOQUETTISHLY', 'BRITISHHOOD', 'ORNITHIVOROUS', 'BLEACHWORKS', 'SULPHITATION', 'HISTOTROPIC', 'SPINIBULBAR', 'MYZODENDRACEAE', 'EPITOMICAL', 'PROBLEMIST', 'SWAMPBERRY', 'ELECTRONICS', 'TELLINACEA', 'PRECLOSURE', 'WHERESOMEVER', 'OMNIMENTAL', 'ELEOMARGARIC', 'JANTHINIDAE', 'QUARRELPROOF', 'SARCASTICALLY', 'HYALOMUCOID', 'ATTENUATIVE', 'EXPIRATION']\n"
     ]
    }
   ],
   "source": [
    "print(w11)"
   ]
  },
  {
   "cell_type": "code",
   "execution_count": 38,
   "id": "5d46e0e3",
   "metadata": {},
   "outputs": [
    {
     "name": "stdout",
     "output_type": "stream",
     "text": [
      "['LABYRINTHIBRANCH', 'PROGRESSIVENESS', 'BENZOQUINOXALINE', 'SUBBRACHYCEPHALY', 'STETHOPHONOMETER', 'TRACHELOSCAPULAR', 'PREDISPLACEMENT', 'SULPHOANTIMONATE', 'SEPTATOARTICULATE', 'COCCOTHRAUSTINE', 'COUNTERAPPELLANT', 'PSEUDOARTICULATION', 'PLENIPOTENTIARY', 'INTRANSMISSIBLE', 'SEMIPROFESSIONALIZED', 'PTERYGOQUADRATE', 'UNEXHAUSTIVENESS', 'PYRAMIDOATTENUATE', 'UNRECONSTRUCTED', 'UNSUBSTANTIALLY', 'MACRORHAMPHOSIDAE', 'LAMINIPLANTATION', 'PARACHROMATOSIS', 'CONGRESSIONALLY', 'INAPPLICABLENESS', 'CIRCUMNAVIGATOR', 'DEMONOLOGICALLY', 'LYMPHOBLASTOSIS', 'AEROPHILATELIST', 'ASTROSPECTROSCOPIC', 'SUPERINDIVIDUAL', 'DIHYDRONAPHTHALENE', 'MARRIAGEABILITY', 'CATASTROPHICALLY', 'CELIOSALPINGOTOMY', 'ENTEROPARALYSIS', 'CHRISTIANIZATION', 'PALEOHERPETOLOGIST', 'HYDROSULPHOCYANIC', 'IRRECLAIMABILITY', 'COUNTERCLOCKWISE', 'SYNENTOGNATHOUS', 'PSEUDOISOMERISM', 'RUDIMENTARINESS', 'HEMATODYSTROPHY', 'METHYLETHYLACETIC', 'CRYSTALLOGENICAL', 'COUNTERPROPAGANDA', 'REMONSTRATIVELY', 'BIOBIBLIOGRAPHY', 'AURICULOVENTRICULAR', 'CONSERVATORSHIP', 'EUDIOMETRICALLY', 'INTRALARYNGEALLY', 'SYLLOGISTICALLY', 'UNCONSIDERINGLY', 'NEURODERMATOSIS', 'OVERSOLICITOUSLY', 'NONSUBSTANTIALITY', 'SPERMATOBLASTIC', 'NONREPRESENTATIONALISM', 'ULTRADEMOCRATIC', 'PERIPANCREATITIS', 'SUBTERRANEOUSLY', 'SUBSTRATOSPHERE', 'MEGALOKARYOCYTE', 'ALUMINOSILICATE', 'SEPTOCYLINDRIUM', 'PHRENICOPERICARDIAC', 'CARTILAGINIFICATION', 'METAMORPHOSABLE', 'ANTHRAHYDROQUINONE', 'BACCHANALIANISM', 'CYLINDROCONICAL', 'INDEFINABLENESS', 'INCONSECUTIVELY', 'SEMICIRCUMFERENCE', 'SPHINCTERECTOMY', 'DIAZOTIZABILITY', 'UNDERVOCABULARIED', 'INDISPUTABILITY', 'OVERREACHINGNESS', 'TOPOGRAPHOMETRIC', 'PHENOLSULPHONIC', 'CONTRAVINDICATE', 'LYMPHANGIOENDOTHELIOMA', 'MAGNESIOFERRITE', 'PHOTOELECTRICAL', 'PHRENOMAGNETISM', 'PERCRYSTALLIZATION', 'PSYCHOREALISTIC', 'IMMEASURABILITY', 'VISCEROPARIETAL', 'DEHYDROASCORBIC', 'SUPEREXCRESCENCE', 'COUNTERMANIFESTO', 'ENTEROLITHIASIS', 'HISTOGENETICALLY', 'PNEUMONOPHTHISIS', 'CHRISTIANOPAGANISM', 'ANGIOSPERMATOUS', 'SULPHOPROPIONIC', 'PREJOURNALISTIC', 'SPINOSODENTICULATE', 'ASTROSPECTROSCOPIC', 'MICROLEPIDOPTERON', 'UNSPONTANEOUSLY', 'INTERREFLECTION', 'UNHACKNEYEDNESS', 'COCCOTHRAUSTINE', 'ARTHROSYNOVITIS', 'FRENCHIFICATION', 'UNPROFESSIONALISM', 'ELECTROSTENOLYSIS', 'INTERHABITATION', 'PATHOMETABOLISM', 'CHONDROCORACOID', 'COUNTERENTHUSIASM', 'ULTRAIMPERIALISM', 'MONOBROMOACETANILIDE', 'SUPERMAGNIFICENT', 'MUSCULOMEMBRANOUS', 'LAPAROTRACHELOTOMY', 'REPARTICIPATION', 'PREINTELLIGENTLY', 'SUPEREXCRESCENCE', 'DUODENOCHOLECYSTOSTOMY', 'PROTUBERANTNESS', 'SEMIDECUSSATION', 'INDIGESTIBILITY', 'BIBLICOLITERARY', 'CONSEQUENTIALITY', 'ULTRACONSCIENTIOUS', 'NATURALISTICALLY', 'UNCOMPREHENDING', 'ERYTHROCYTOBLAST', 'DEVELOPMENTARIAN', 'ANTIFUNDAMENTALIST', 'NONPHYSIOLOGICAL', 'HEXATETRAHEDRON', 'IMPENITIBLENESS', 'ANTIHIERARCHIST', 'INDEFATIGABLENESS', 'ANTIPATRIARCHAL', 'PARIETOSPHENOIDAL', 'PROBATIONERHOOD', 'SUBINFLAMMATION', 'PSEUDORHEUMATIC', 'UNDERINSTRUMENT', 'OVERSCRUPULOUSNESS']\n"
     ]
    }
   ],
   "source": [
    "print(w15)"
   ]
  },
  {
   "cell_type": "code",
   "execution_count": null,
   "id": "12c260b7",
   "metadata": {},
   "outputs": [],
   "source": []
  }
 ],
 "metadata": {
  "kernelspec": {
   "display_name": "Python 3 (ipykernel)",
   "language": "python",
   "name": "python3"
  },
  "language_info": {
   "codemirror_mode": {
    "name": "ipython",
    "version": 3
   },
   "file_extension": ".py",
   "mimetype": "text/x-python",
   "name": "python",
   "nbconvert_exporter": "python",
   "pygments_lexer": "ipython3",
   "version": "3.7.11"
  }
 },
 "nbformat": 4,
 "nbformat_minor": 5
}
